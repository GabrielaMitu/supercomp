{
 "cells": [
  {
   "cell_type": "markdown",
   "metadata": {},
   "source": [
    "# 01 - Introdução a SuperComputação\n",
    "\n",
    "Como vimos na expositiva, uma solução de alto desempenho depende de três partes:\n",
    "\n",
    "1. algoritmos eficientes\n",
    "2. implementações eficientes\n",
    "3. paralelismo\n",
    "\n",
    "Na atividade de hoje vamos estudar o primeiro ponto e quantificar o efeito de algoritmos eficientes na resolução de um problema complexo. \n",
    "\n",
    "## Problemas estudados em SuperComputação\n",
    "\n",
    "Em Desafios de Programação conhecemos a classe dos problemas NP-completo, que são aqueles que acreditamos não existir nenhum algoritmo determinístico que os resolvem em tempo polinomial. Ou seja, são problemas importantes cuja solução é difícil. Em geral temos classes de algoritmos para resolvê-los:\n",
    "\n",
    "1. ótimos globais: algoritmo que encontra a solução \"correta\" do problema. \n",
    "2. ótimos locais: algoritmo que encontra uma solução \"boa\" e que não pode ser melhorada por pequenas modificações. \n",
    "3. aproximação: algoritmos que garantem estar \"perto o suficiente\" da solução ótima. Este tipo de algoritmo não nos interessa em SuperComputação.\n",
    "\n",
    "Iremos analisar hoje 4 executáveis que resolvem o problema do [Caixeiro Viajante](https://en.wikipedia.org/wiki/Travelling_salesman_problem). \n",
    "\n",
    "1. `busca-local-1` - implementação de um método de busca rápida, porém não ótima.\n",
    "1. `busca-local-1-par` - implementação paralela do programa acima.\n",
    "2. `busca-local-2` - implementação alternativa do mesmo método acima. Os resultados de ambos são idênticos.\n",
    "2. `busca-local-2-par` - implementação paralela do programa acima.\n",
    "\n",
    "!!! important \n",
    "    Não estamos interessados no Caixeiro Viajante em si hoje. Queremos é comparar diferentes maneiras de resolvê-lo para entendermos o papel de técnicas de SuperComputação na velocidade de processamento e nos resultados obtidos. \n",
    "\n",
    "\n",
    "## Ferramental\n",
    "\n",
    "Realizar testes de maneira automatizada é muito importante para quantificar os efeitos de diferentes algoritmos e técnicas de paralelismo. O snippet abaixo executa "
   ]
  },
  {
   "cell_type": "code",
   "execution_count": 2,
   "metadata": {
    "tags": [
     "outputPrepend"
    ]
   },
   "outputs": [
    {
     "name": "stdout",
     "output_type": "stream",
     "text": [
      "Saída: 232.234 0\n",
      "3 0 4 1 2 \n",
      "\n",
      "Stderr: \n",
      "Tempo total(s): 0.004065362999881472\n"
     ]
    }
   ],
   "source": [
    "import subprocess\n",
    "import time\n",
    "\n",
    "with open('entradas-busca-local/in-0.txt') as f:\n",
    "    start = time.perf_counter()\n",
    "    proc = subprocess.run(['./busca-local-1'], input=f.read(), text=True, capture_output=True)\n",
    "    end = time.perf_counter()\n",
    "\n",
    "    print('Saída:', proc.stdout)\n",
    "    print('Stderr:', proc.stderr)\n",
    "    print('Tempo total(s):', end - start)"
   ]
  },
  {
   "cell_type": "markdown",
   "metadata": {},
   "source": [
    "Vamos agora praticar usar este snippet para executar nossos testes automaticamente. \n",
    "\n",
    "!!! example\n",
    "\n",
    "    Crie uma função `roda_com_entrada(executavel, arquivo_in)` que roda o primeiro argumento usando como entrada o conteúdo do segundo argumento. Teste seu código com o executável `busca-local-1` e com o arquivo de entrada `in-0.txt` usado no exemplo acima.\n",
    "\n",
    "    Sua função deverá devolver uma tupla `(stdout,time)` com `stdout` sendo a saída do programa e `time` seu tempo de execução em segundos. "
   ]
  },
  {
   "cell_type": "code",
   "execution_count": 3,
   "metadata": {},
   "outputs": [],
   "source": [
    "# TODO: exercício aqui\n",
    "def roda_com_entrada(executavel, arquivo_in):\n",
    "    with open(arquivo_in) as f:\n",
    "        start = time.perf_counter()\n",
    "        proc = subprocess.run([executavel], input=f.read(), text=True, capture_output=True)\n",
    "        end = time.perf_counter()\n",
    "        \n",
    "        return(proc.stdout, (end - start))"
   ]
  },
  {
   "cell_type": "code",
   "execution_count": 4,
   "metadata": {},
   "outputs": [
    {
     "name": "stdout",
     "output_type": "stream",
     "text": [
      "('232.234 0\\n3 0 4 1 2 \\n', 0.003566179000245029)\n"
     ]
    }
   ],
   "source": [
    "print(roda_com_entrada('./busca-local-1', 'entradas-busca-local/in-0.txt'))"
   ]
  },
  {
   "cell_type": "markdown",
   "metadata": {},
   "source": [
    "## Algoritmos sequenciais\n",
    "\n",
    "Com esse código, vamos criar um relatório interativo que roda nossos testes automaticamente e já plota informações prontas para nossas análises. Vamos começar examinando o desempenho do executável `busca-local-1`.\n",
    "\n",
    "!!! example\n",
    "\n",
    "    Rode o `busca-local` com os arquivos de entrada na pasta `entradas-busca-local`. Guarde os tempos em uma lista.\n",
    "\n",
    "!!! example\n",
    "\n",
    "    Leia o tamanho das entradas dos arquivos  na pasta `entradas-busca-local` e guarde em uma segunda lista.\n",
    "\n",
    "!!! example \n",
    "\n",
    "    Plote o tempo de execução pelo tamanho da entrada usando `matplotlib`"
   ]
  },
  {
   "cell_type": "code",
   "execution_count": 32,
   "metadata": {},
   "outputs": [
    {
     "name": "stdout",
     "output_type": "stream",
     "text": [
      "entradas-busca-local/in-1.txt\n",
      "entradas-busca-local/in-4.txt\n",
      "entradas-busca-local/in-8.txt\n",
      "entradas-busca-local/in-7.txt\n",
      "entradas-busca-local/in-6.txt\n",
      "entradas-busca-local/in-5.txt\n",
      "entradas-busca-local/in-2.txt\n",
      "entradas-busca-local/in-0.txt\n",
      "entradas-busca-local/in-9.txt\n",
      "entradas-busca-local/in-3.txt\n"
     ]
    },
    {
     "data": {
      "text/plain": [
       "[0.0062147080006980104,\n",
       " 0.07609351400060405,\n",
       " 5.912204447000477,\n",
       " 2.6219820639998943,\n",
       " 1.0350047370002358,\n",
       " 0.3074835500001427,\n",
       " 0.0057042799999180716,\n",
       " 0.004188178000731568,\n",
       " 13.087394516999666,\n",
       " 0.012300088000301912]"
      ]
     },
     "execution_count": 32,
     "metadata": {},
     "output_type": "execute_result"
    }
   ],
   "source": [
    "import os\n",
    "\n",
    "executavel = \"./busca-local-1\"\n",
    "directory = \"entradas-busca-local\"\n",
    "time_list=[]\n",
    "size_list=[]\n",
    "arr = os.listdir(directory)\n",
    "for arquivo_in in arr:\n",
    "    if arquivo_in[:2] == \"in\":\n",
    "        path = directory + \"/\" + arquivo_in\n",
    "        print(path)\n",
    "        inputs = sum(1 for line in open(path))\n",
    "        size_list.append(inputs)\n",
    "        time_list.append(roda_com_entrada((executavel), (path))[1])\n",
    "\n",
    "time_list"
   ]
  },
  {
   "cell_type": "code",
   "execution_count": 33,
   "metadata": {},
   "outputs": [
    {
     "name": "stdout",
     "output_type": "stream",
     "text": [
      "[6, 11, 16, 21, 31, 41, 51, 61, 71, 81]\n"
     ]
    }
   ],
   "source": [
    "sorted_size1 = sorted(size_list)\n",
    "print(sorted_size1)"
   ]
  },
  {
   "cell_type": "code",
   "execution_count": 34,
   "metadata": {},
   "outputs": [
    {
     "data": {
      "text/plain": [
       "[0.004188178000731568,\n",
       " 0.0057042799999180716,\n",
       " 0.0062147080006980104,\n",
       " 0.012300088000301912,\n",
       " 0.07609351400060405,\n",
       " 0.3074835500001427,\n",
       " 1.0350047370002358,\n",
       " 2.6219820639998943,\n",
       " 5.912204447000477,\n",
       " 13.087394516999666]"
      ]
     },
     "execution_count": 34,
     "metadata": {},
     "output_type": "execute_result"
    }
   ],
   "source": [
    "sorted_time1 = sorted(time_list)\n",
    "sorted_time1"
   ]
  },
  {
   "cell_type": "code",
   "execution_count": 35,
   "metadata": {},
   "outputs": [
    {
     "data": {
      "text/plain": [
       "[<matplotlib.lines.Line2D at 0x7f07c524c940>]"
      ]
     },
     "execution_count": 35,
     "metadata": {},
     "output_type": "execute_result"
    },
    {
     "data": {
      "image/png": "[encoded data removed]",
      "text/plain": [
       "<Figure size 432x288 with 1 Axes>"
      ]
     },
     "metadata": {
      "needs_background": "light"
     },
     "output_type": "display_data"
    }
   ],
   "source": [
    "from matplotlib import pyplot as plt\n",
    "plt.plot(sorted_size1, sorted_time1)"
   ]
  },
  {
   "cell_type": "markdown",
   "metadata": {},
   "source": [
    "!!! example\n",
    "    Repita os três passos acima para o executável `busca-local-2`. Finalize plotando os tempos de execução de ambos os executáveis no mesmo gráfico."
   ]
  },
  {
   "cell_type": "code",
   "execution_count": 36,
   "metadata": {},
   "outputs": [
    {
     "name": "stdout",
     "output_type": "stream",
     "text": [
      "entradas-busca-local/in-1.txt\n",
      "entradas-busca-local/in-4.txt\n",
      "entradas-busca-local/in-8.txt\n",
      "entradas-busca-local/in-7.txt\n",
      "entradas-busca-local/in-6.txt\n",
      "entradas-busca-local/in-5.txt\n",
      "entradas-busca-local/in-2.txt\n",
      "entradas-busca-local/in-0.txt\n",
      "entradas-busca-local/in-9.txt\n",
      "entradas-busca-local/in-3.txt\n"
     ]
    },
    {
     "data": {
      "text/plain": [
       "[<matplotlib.lines.Line2D at 0x7f07c51c9040>]"
      ]
     },
     "execution_count": 36,
     "metadata": {},
     "output_type": "execute_result"
    },
    {
     "data": {
      "image/png": "[encoded data removed]",
      "text/plain": [
       "<Figure size 432x288 with 1 Axes>"
      ]
     },
     "metadata": {
      "needs_background": "light"
     },
     "output_type": "display_data"
    }
   ],
   "source": [
    "import os\n",
    "from matplotlib import pyplot as plt\n",
    "\n",
    "executavel = \"./busca-local-2\"\n",
    "directory = \"entradas-busca-local\"\n",
    "time_list=[]\n",
    "size_list=[]\n",
    "arr = os.listdir(directory)\n",
    "for arquivo_in in arr:\n",
    "    if arquivo_in[:2] == \"in\":\n",
    "        path = directory + \"/\" + arquivo_in\n",
    "        print(path)\n",
    "        inputs = sum(1 for line in open(path))\n",
    "        size_list.append(inputs)\n",
    "        time_list.append(roda_com_entrada((executavel), (path))[1])\n",
    "\n",
    "sorted_size2 = sorted(size_list)\n",
    "sorted_time2 = sorted(time_list)\n",
    "plt.plot(sorted_size2, sorted_time2)"
   ]
  },
  {
   "cell_type": "markdown",
   "metadata": {},
   "source": [
    "!!! example\n",
    "    Segundo uma coleta de dados informal e altamente confiável, 93,17% dos alunos não colocam legendas nem títulos nos gráficos gerados. Faça isso agora. "
   ]
  },
  {
   "cell_type": "code",
   "execution_count": 38,
   "metadata": {},
   "outputs": [
    {
     "data": {
      "text/plain": [
       "Text(0.5, 0, 'Size')"
      ]
     },
     "execution_count": 38,
     "metadata": {},
     "output_type": "execute_result"
    },
    {
     "data": {
      "image/png": "[encoded data removed]",
      "text/plain": [
       "<Figure size 432x288 with 1 Axes>"
      ]
     },
     "metadata": {
      "needs_background": "light"
     },
     "output_type": "display_data"
    }
   ],
   "source": [
    "plt.plot(sorted_size1, sorted_time1, label='busca_local1')\n",
    "plt.plot(sorted_size2, sorted_time2, label='busca_local2')\n",
    "plt.legend()\n",
    "plt.ylabel(\"Time (s)\")\n",
    "plt.xlabel(\"Size\")"
   ]
  },
  {
   "cell_type": "markdown",
   "metadata": {},
   "source": [
    "!!! question medium\n",
    "\n",
    "    Interprete o gráfico que você gerou na linha de cima. \n",
    "\n",
    "!!! question medium\n",
    "    Compare manualmente a saída dos programas. Existe diferença em seus resultados?\n",
    "\n",
    "!!! question medium \n",
    "    Resgate seus conhecimentos de Desafios de Programação e explique a diferença entre os algoritmos.\n",
    "\n",
    "\n",
    "## Algoritmos paralelos\n",
    "\n",
    "Na discussão inicial da expositiva chegamos à conclusão de que se conseguimos realizar *N* operações em paralelo teremos um ganho de no máximo *N* vezes no desempenho de nosso programa. Nesta parte iremos estudar esta afirmação usando implementações paralelas dos algoritmos da seção anterior. \n",
    "\n",
    "!!! example\n",
    "    Execute os algoritmos paralelos com as mesmas entradas e compare com suas versões paralelas. Use um gráfico para facilitar as comparações"
   ]
  },
  {
   "cell_type": "code",
   "execution_count": null,
   "metadata": {},
   "outputs": [],
   "source": []
  },
  {
   "cell_type": "markdown",
   "metadata": {},
   "source": [
    "!!! question medium\n",
    "    Compare os tempos obtidos. Qual foi o ganho médio? Quantos *núcleos* a máquina que você está usando possui? Responda comparando cada algoritmo sequencial com sua versão paralela.\n",
    "\n",
    "Já estabelecemos que `busca-local-2` é melhor que `busca-local-1` por ser utilizar um algoritmo mais eficiente e vimos na prática a diferença entre um algoritmo $O(n^3)$ e um algoritmo $O(n^2)$. Vamos agora examinar a seguinte questão.\n",
    "\n",
    "!!! cite \"É possível usar paralelismo para tornar `busca-local-1-par` melhor que `busca-local-2`?\"\n",
    "\n",
    "!!! example\n",
    "    Compare o desempenho de `busca-local-1-par` com `busca-local-2`. Faça um gráfico"
   ]
  },
  {
   "cell_type": "markdown",
   "metadata": {},
   "source": [
    "!!! question medium\n",
    "    Com base em seu gráfico acima, responda a pergunta: \"É possível usar paralelismo para tornar busca-local-1-par melhor que busca-local-2?\"\n",
    "\n",
    "Vamos agora generalizar a pergunta:\n",
    "\n",
    "!!! question medium\n",
    "    Dados dois algoritmos com complexidades computacionais diferentes, sendo que o primeiro é inferior ao segundo. É possível usar paralelismo para tornar o primeiro mais rápido que o segundo para todos tamanhos de entrada? Assuma que você possui um número fixo de *núcleos*. \n"
   ]
  }
 ],
 "metadata": {
  "kernelspec": {
   "display_name": "Python 3",
   "language": "python",
   "name": "python3"
  },
  "language_info": {
   "codemirror_mode": {
    "name": "ipython",
    "version": 3
   },
   "file_extension": ".py",
   "mimetype": "text/x-python",
   "name": "python",
   "nbconvert_exporter": "python",
   "pygments_lexer": "ipython3",
   "version": "3.8.10"
  }
 },
 "nbformat": 4,
 "nbformat_minor": 4
}
