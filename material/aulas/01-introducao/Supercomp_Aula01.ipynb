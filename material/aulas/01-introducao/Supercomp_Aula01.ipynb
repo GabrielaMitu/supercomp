{
  "nbformat": 4,
  "nbformat_minor": 0,
  "metadata": {
    "colab": {
      "provenance": []
    },
    "kernelspec": {
      "name": "python3",
      "display_name": "Python 3"
    },
    "language_info": {
      "name": "python"
    }
  },
  "cells": [
    {
      "cell_type": "code",
      "execution_count": null,
      "metadata": {
        "id": "-50_7iUwD80U"
      },
      "outputs": [],
      "source": [
        "!chmod 777 *"
      ]
    },
    {
      "cell_type": "code",
      "source": [
        "import matplotlib.pyplot as plt"
      ],
      "metadata": {
        "id": "r6yf3ZeBOnlr"
      },
      "execution_count": null,
      "outputs": []
    },
    {
      "cell_type": "code",
      "source": [
        "import subprocess\n",
        "import time\n",
        "\n",
        "with open('entradas-busca-local/in-0.txt') as f:\n",
        "    start = time.perf_counter()\n",
        "    proc = subprocess.run(['./busca-local-1'], input=f.read(), text=True, capture_output=True)\n",
        "    end = time.perf_counter()\n",
        "\n",
        "    print('Saída:', proc.stdout)\n",
        "    print('Stderr:', proc.stderr)\n",
        "    print('Tempo total(s):', end - start)"
      ],
      "metadata": {
        "colab": {
          "base_uri": "https://localhost:8080/"
        },
        "id": "28jZrUdeE58d",
        "outputId": "b280ffe3-cee6-454b-8caa-17f1cf54f96b"
      },
      "execution_count": null,
      "outputs": [
        {
          "output_type": "stream",
          "name": "stdout",
          "text": [
            "Saída: 232.234 0\n",
            "3 0 4 1 2 \n",
            "\n",
            "Stderr: \n",
            "Tempo total(s): 0.010069033000036143\n"
          ]
        }
      ]
    },
    {
      "cell_type": "code",
      "source": [
        "# lista dos tempos\n",
        "lista_temp = []\n",
        "\n",
        "# lista do tamanho dos arquivos txt (quantas linhas)\n",
        "lista_size = []"
      ],
      "metadata": {
        "id": "H2sK9dyiJnvU"
      },
      "execution_count": null,
      "outputs": []
    },
    {
      "cell_type": "code",
      "source": [
        "def roda_com_entrada(executavel, arquivo_in):\n",
        "  with open('entradas-busca-local/'+ arquivo_in) as f:\n",
        "    start = time.perf_counter()\n",
        "    proc = subprocess.run([executavel], input=f.read(), text=True, capture_output=True)\n",
        "    end = time.perf_counter()\n",
        "\n",
        "    stdout = proc.stdout\n",
        "    \n",
        "\n",
        "    #print('Saída:', proc.stdout)\n",
        "    #print('Stderr:', proc.stderr)\n",
        "    #print('Tempo total(s):', end - start)\n",
        "    tempo = end - start\n",
        "    return (stdout, end - start)"
      ],
      "metadata": {
        "id": "D5xH8XzFGRaJ"
      },
      "execution_count": null,
      "outputs": []
    },
    {
      "cell_type": "code",
      "source": [
        "def conta_linhas(arquivo_in):\n",
        "  with open('entradas-busca-local/'+ arquivo_in) as f:\n",
        "    linhas_n = len(f.readlines())\n",
        "    return linhas_n"
      ],
      "metadata": {
        "id": "Zr75kEQcPL1s"
      },
      "execution_count": null,
      "outputs": []
    },
    {
      "cell_type": "code",
      "source": [
        "# Contagem eixo X - tamanho da entrada\n",
        "\n",
        "linhas_n = conta_linhas(\"in-0.txt\")- 1 # Tira um pq a primeira linha n conta\n",
        "lista_size.append(linhas_n)\n",
        "\n",
        "linhas_n = conta_linhas(\"in-1.txt\")- 1 \n",
        "lista_size.append(linhas_n)\n",
        "\n",
        "linhas_n = conta_linhas(\"in-2.txt\")- 1 \n",
        "lista_size.append(linhas_n)\n",
        "\n",
        "linhas_n = conta_linhas(\"in-3.txt\")- 1 \n",
        "lista_size.append(linhas_n)\n",
        "\n",
        "linhas_n = conta_linhas(\"in-4.txt\")- 1 \n",
        "lista_size.append(linhas_n)\n",
        "\n",
        "linhas_n = conta_linhas(\"in-5.txt\")- 1 \n",
        "lista_size.append(linhas_n)\n",
        "\n",
        "linhas_n = conta_linhas(\"in-6.txt\")- 1 \n",
        "lista_size.append(linhas_n)\n",
        "\n",
        "linhas_n = conta_linhas(\"in-7.txt\")- 1 \n",
        "lista_size.append(linhas_n)\n",
        "\n",
        "linhas_n = conta_linhas(\"in-8.txt\")- 1 \n",
        "lista_size.append(linhas_n)\n",
        "\n",
        "linhas_n = conta_linhas(\"in-9.txt\")- 1 \n",
        "lista_size.append(linhas_n)"
      ],
      "metadata": {
        "id": "Koq0J-vKPowk"
      },
      "execution_count": null,
      "outputs": []
    },
    {
      "cell_type": "code",
      "source": [
        "lista_size"
      ],
      "metadata": {
        "colab": {
          "base_uri": "https://localhost:8080/"
        },
        "id": "VjNaJzxxYr28",
        "outputId": "6219cab0-00a4-4588-ddd0-0ec8e5b55533"
      },
      "execution_count": null,
      "outputs": [
        {
          "output_type": "execute_result",
          "data": {
            "text/plain": [
              "[5, 10, 15, 20, 30, 40, 50, 60, 70, 80]"
            ]
          },
          "metadata": {},
          "execution_count": 15
        }
      ]
    },
    {
      "cell_type": "code",
      "source": [
        "# versao prof\n",
        "import subprocess\n",
        "import time\n",
        "\n",
        "def roda_com_entradaProf(ex, in_f):\n",
        "    with open(in_f) as f:\n",
        "        start = time.perf_counter()\n",
        "        proc = subprocess.run([ex], input=f.read(), text=True, capture_output=True)\n",
        "        end = time.perf_counter()\n",
        "\n",
        "    return proc.stdout, end-start"
      ],
      "metadata": {
        "id": "g4Z_WCcScaMS"
      },
      "execution_count": null,
      "outputs": []
    },
    {
      "cell_type": "code",
      "source": [
        "# forma do prof:\n",
        "arqs = [f'entradas-busca-local/in-{i}.txt' for i in range(10)]\n",
        "tempos = [roda_com_entradaProf('./busca-local-1', arq)[1] for arq in arqs]\n",
        "\n",
        "N = []\n",
        "for arq in arqs:\n",
        "    with open(arq) as f:\n",
        "        n = int(f.readlines()[0])\n",
        "        N.append(n)\n",
        "print(N)"
      ],
      "metadata": {
        "colab": {
          "base_uri": "https://localhost:8080/"
        },
        "id": "Ahp7xMZ6YwSH",
        "outputId": "0caa157a-e265-4fd6-93e5-7f521af157c6"
      },
      "execution_count": null,
      "outputs": [
        {
          "output_type": "stream",
          "name": "stdout",
          "text": [
            "[5, 10, 15, 20, 30, 40, 50, 60, 70, 80]\n"
          ]
        }
      ]
    },
    {
      "cell_type": "markdown",
      "source": [
        "# Lista Busca-local-1\n"
      ],
      "metadata": {
        "id": "OKp2k6E0RTf4"
      }
    },
    {
      "cell_type": "code",
      "source": [
        "# Contagem eixo Y - tempo\n",
        "lista_temp = []\n",
        "\n",
        "saidas, tempo = roda_com_entrada(\"./busca-local-1\", \"in-0.txt\")\n",
        "lista_temp.append(tempo)\n",
        "\n",
        "saidas, tempo = roda_com_entrada(\"./busca-local-1\", \"in-1.txt\")\n",
        "lista_temp.append(tempo)\n",
        "\n",
        "saidas, tempo = roda_com_entrada(\"./busca-local-1\", \"in-2.txt\")\n",
        "lista_temp.append(tempo)\n",
        "\n",
        "saidas, tempo = roda_com_entrada(\"./busca-local-1\", \"in-3.txt\")\n",
        "lista_temp.append(tempo)\n",
        "\n",
        "saidas, tempo = roda_com_entrada(\"./busca-local-1\", \"in-4.txt\")\n",
        "lista_temp.append(tempo)\n",
        "\n",
        "saidas, tempo = roda_com_entrada(\"./busca-local-1\", \"in-5.txt\")\n",
        "lista_temp.append(tempo)\n",
        "\n",
        "saidas, tempo = roda_com_entrada(\"./busca-local-1\", \"in-6.txt\")\n",
        "lista_temp.append(tempo)\n",
        "\n",
        "saidas, tempo = roda_com_entrada(\"./busca-local-1\", \"in-7.txt\")\n",
        "lista_temp.append(tempo)\n",
        "\n",
        "saidas, tempo = roda_com_entrada(\"./busca-local-1\", \"in-8.txt\")\n",
        "lista_temp.append(tempo)\n",
        "\n",
        "saidas, tempo = roda_com_entrada(\"./busca-local-1\", \"in-9.txt\")\n",
        "lista_temp.append(tempo)"
      ],
      "metadata": {
        "id": "dRffuQOqHrsV"
      },
      "execution_count": null,
      "outputs": []
    },
    {
      "cell_type": "code",
      "source": [
        "print(lista_temp)\n",
        "print(lista_size)"
      ],
      "metadata": {
        "colab": {
          "base_uri": "https://localhost:8080/"
        },
        "id": "NpVEoKrGLXqm",
        "outputId": "5af9fdad-6371-4705-920d-2de09f803b1f"
      },
      "execution_count": null,
      "outputs": [
        {
          "output_type": "stream",
          "name": "stdout",
          "text": [
            "[0.012668855999891093, 0.0062392869999712275, 0.008169217999920875, 0.017164601000104085, 0.08839632600006553, 0.3946390139999494, 1.292936477000012, 4.2145172699999875, 8.782985778000011, 17.870791439999948]\n",
            "[5, 10, 15, 20, 30, 40, 50, 60, 70, 80]\n"
          ]
        }
      ]
    },
    {
      "cell_type": "code",
      "source": [
        "plt.plot(lista_size, lista_temp)"
      ],
      "metadata": {
        "colab": {
          "base_uri": "https://localhost:8080/",
          "height": 282
        },
        "id": "Dhtrs3lCQ9rr",
        "outputId": "888f0f8d-f24c-417a-88ab-8dd26bbda4a1"
      },
      "execution_count": null,
      "outputs": [
        {
          "output_type": "execute_result",
          "data": {
            "text/plain": [
              "[<matplotlib.lines.Line2D at 0x7f77ace46bb0>]"
            ]
          },
          "metadata": {},
          "execution_count": 29
        },
        {
          "output_type": "display_data",
          "data": {
            "text/plain": [
              "<Figure size 432x288 with 1 Axes>"
            ],
            "image/png": "[encoded data removed]"
          },
          "metadata": {
            "needs_background": "light"
          }
        }
      ]
    },
    {
      "cell_type": "code",
      "source": [
        "# Versão do prof\n",
        "import matplotlib.pyplot as plt\n",
        "fig, ax = plt.subplots(figsize=(10,5))\n",
        "ax.set_xlabel('n')\n",
        "ax.set_ylabel('tempo (seg)')\n",
        "ax.plot(N, tempos)\n",
        "plt.show()"
      ],
      "metadata": {
        "colab": {
          "base_uri": "https://localhost:8080/",
          "height": 334
        },
        "id": "jOBgAdcee709",
        "outputId": "56192fd6-0780-4dcd-e71a-ed339803a1dc"
      },
      "execution_count": null,
      "outputs": [
        {
          "output_type": "display_data",
          "data": {
            "text/plain": [
              "<Figure size 720x360 with 1 Axes>"
            ],
            "image/png": "[encoded data removed]"
          },
          "metadata": {
            "needs_background": "light"
          }
        }
      ]
    },
    {
      "cell_type": "markdown",
      "source": [
        "# Lista Busca-local-1-par"
      ],
      "metadata": {
        "id": "8Wt60vqMRLd_"
      }
    },
    {
      "cell_type": "code",
      "source": [
        "# Contagem eixo Y - tempo\n",
        "lista_temp_1Par = []\n",
        "\n",
        "saidas, tempo = roda_com_entrada(\"./busca-local-1-par\", \"in-0.txt\")\n",
        "lista_temp_1Par.append(tempo)\n",
        "\n",
        "saidas, tempo = roda_com_entrada(\"./busca-local-1-par\", \"in-1.txt\")\n",
        "lista_temp_1Par.append(tempo)\n",
        "\n",
        "saidas, tempo = roda_com_entrada(\"./busca-local-1-par\", \"in-2.txt\")\n",
        "lista_temp_1Par.append(tempo)\n",
        "\n",
        "saidas, tempo = roda_com_entrada(\"./busca-local-1-par\", \"in-3.txt\")\n",
        "lista_temp_1Par.append(tempo)\n",
        "\n",
        "saidas, tempo = roda_com_entrada(\"./busca-local-1-par\", \"in-4.txt\")\n",
        "lista_temp_1Par.append(tempo)\n",
        "\n",
        "saidas, tempo = roda_com_entrada(\"./busca-local-1-par\", \"in-5.txt\")\n",
        "lista_temp_1Par.append(tempo)\n",
        "\n",
        "saidas, tempo = roda_com_entrada(\"./busca-local-1-par\", \"in-6.txt\")\n",
        "lista_temp_1Par.append(tempo)\n",
        "\n",
        "saidas, tempo = roda_com_entrada(\"./busca-local-1-par\", \"in-7.txt\")\n",
        "lista_temp_1Par.append(tempo)\n",
        "\n",
        "saidas, tempo = roda_com_entrada(\"./busca-local-1-par\", \"in-8.txt\")\n",
        "lista_temp_1Par.append(tempo)\n",
        "\n",
        "saidas, tempo = roda_com_entrada(\"./busca-local-1-par\", \"in-9.txt\")\n",
        "lista_temp_1Par.append(tempo)"
      ],
      "metadata": {
        "id": "8d4JVBGYQ93P"
      },
      "execution_count": null,
      "outputs": []
    },
    {
      "cell_type": "code",
      "source": [
        "plt.plot(lista_size, lista_temp_1Par)"
      ],
      "metadata": {
        "colab": {
          "base_uri": "https://localhost:8080/",
          "height": 282
        },
        "id": "-8ui62aMRuo4",
        "outputId": "45b62f31-1967-4cf1-b086-2f1a3c30ff09"
      },
      "execution_count": null,
      "outputs": [
        {
          "output_type": "execute_result",
          "data": {
            "text/plain": [
              "[<matplotlib.lines.Line2D at 0x7f77accd1220>]"
            ]
          },
          "metadata": {},
          "execution_count": 37
        },
        {
          "output_type": "display_data",
          "data": {
            "text/plain": [
              "<Figure size 432x288 with 1 Axes>"
            ],
            "image/png": "[encoded data removed]"
          },
          "metadata": {
            "needs_background": "light"
          }
        }
      ]
    },
    {
      "cell_type": "markdown",
      "source": [
        "# Lista Busca-local-2"
      ],
      "metadata": {
        "id": "NdlxH4VlStQW"
      }
    },
    {
      "cell_type": "code",
      "source": [
        "# Contagem eixo Y - tempo\n",
        "lista_temp_2 = []\n",
        "\n",
        "saidas, tempo = roda_com_entrada(\"./busca-local-2\", \"in-0.txt\")\n",
        "lista_temp_2.append(tempo)\n",
        "\n",
        "saidas, tempo = roda_com_entrada(\"./busca-local-2\", \"in-1.txt\")\n",
        "lista_temp_2.append(tempo)\n",
        "\n",
        "saidas, tempo = roda_com_entrada(\"./busca-local-2\", \"in-2.txt\")\n",
        "lista_temp_2.append(tempo)\n",
        "\n",
        "saidas, tempo = roda_com_entrada(\"./busca-local-2\", \"in-3.txt\")\n",
        "lista_temp_2.append(tempo)\n",
        "\n",
        "saidas, tempo = roda_com_entrada(\"./busca-local-2\", \"in-4.txt\")\n",
        "lista_temp_2.append(tempo)\n",
        "\n",
        "saidas, tempo = roda_com_entrada(\"./busca-local-2\", \"in-5.txt\")\n",
        "lista_temp_2.append(tempo)\n",
        "\n",
        "saidas, tempo = roda_com_entrada(\"./busca-local-2\", \"in-6.txt\")\n",
        "lista_temp_2.append(tempo)\n",
        "\n",
        "saidas, tempo = roda_com_entrada(\"./busca-local-2\", \"in-7.txt\")\n",
        "lista_temp_2.append(tempo)\n",
        "\n",
        "saidas, tempo = roda_com_entrada(\"./busca-local-2\", \"in-8.txt\")\n",
        "lista_temp_2.append(tempo)\n",
        "\n",
        "saidas, tempo = roda_com_entrada(\"./busca-local-2\", \"in-9.txt\")\n",
        "lista_temp_2.append(tempo)"
      ],
      "metadata": {
        "id": "cUoX6KuKR1jv"
      },
      "execution_count": null,
      "outputs": []
    },
    {
      "cell_type": "code",
      "source": [
        "plt.plot(lista_size, lista_temp_2)"
      ],
      "metadata": {
        "colab": {
          "base_uri": "https://localhost:8080/",
          "height": 282
        },
        "id": "OhuskVQDS9_4",
        "outputId": "8ecfd919-a687-4a11-991d-8e69dcc492a6"
      },
      "execution_count": null,
      "outputs": [
        {
          "output_type": "execute_result",
          "data": {
            "text/plain": [
              "[<matplotlib.lines.Line2D at 0x7f77acc3eb50>]"
            ]
          },
          "metadata": {},
          "execution_count": 39
        },
        {
          "output_type": "display_data",
          "data": {
            "text/plain": [
              "<Figure size 432x288 with 1 Axes>"
            ],
            "image/png": "[encoded data removed]"
          },
          "metadata": {
            "needs_background": "light"
          }
        }
      ]
    },
    {
      "cell_type": "markdown",
      "source": [
        "# Lista Busca-local-2-par"
      ],
      "metadata": {
        "id": "xt05poQ1oHhS"
      }
    },
    {
      "cell_type": "code",
      "source": [
        "# Contagem eixo Y - tempo\n",
        "lista_temp_2Par = []\n",
        "\n",
        "saidas, tempo = roda_com_entrada(\"./busca-local-2-par\", \"in-0.txt\")\n",
        "lista_temp_2Par.append(tempo)\n",
        "\n",
        "saidas, tempo = roda_com_entrada(\"./busca-local-2-par\", \"in-1.txt\")\n",
        "lista_temp_2Par.append(tempo)\n",
        "\n",
        "saidas, tempo = roda_com_entrada(\"./busca-local-2-par\", \"in-2.txt\")\n",
        "lista_temp_2Par.append(tempo)\n",
        "\n",
        "saidas, tempo = roda_com_entrada(\"./busca-local-2-par\", \"in-3.txt\")\n",
        "lista_temp_2Par.append(tempo)\n",
        "\n",
        "saidas, tempo = roda_com_entrada(\"./busca-local-2-par\", \"in-4.txt\")\n",
        "lista_temp_2Par.append(tempo)\n",
        "\n",
        "saidas, tempo = roda_com_entrada(\"./busca-local-2-par\", \"in-5.txt\")\n",
        "lista_temp_2Par.append(tempo)\n",
        "\n",
        "saidas, tempo = roda_com_entrada(\"./busca-local-2-par\", \"in-6.txt\")\n",
        "lista_temp_2Par.append(tempo)\n",
        "\n",
        "saidas, tempo = roda_com_entrada(\"./busca-local-2-par\", \"in-7.txt\")\n",
        "lista_temp_2Par.append(tempo)\n",
        "\n",
        "saidas, tempo = roda_com_entrada(\"./busca-local-2-par\", \"in-8.txt\")\n",
        "lista_temp_2Par.append(tempo)\n",
        "\n",
        "saidas, tempo = roda_com_entrada(\"./busca-local-2-par\", \"in-9.txt\")\n",
        "lista_temp_2Par.append(tempo)"
      ],
      "metadata": {
        "id": "gHi0r1_LoM6u"
      },
      "execution_count": null,
      "outputs": []
    },
    {
      "cell_type": "code",
      "source": [
        "plt.plot(lista_size, lista_temp_2Par)"
      ],
      "metadata": {
        "colab": {
          "base_uri": "https://localhost:8080/",
          "height": 282
        },
        "id": "ayfFbbWfout7",
        "outputId": "af2ca494-5b21-47d1-ccc3-a01b6e284cc5"
      },
      "execution_count": null,
      "outputs": [
        {
          "output_type": "execute_result",
          "data": {
            "text/plain": [
              "[<matplotlib.lines.Line2D at 0x7f77acc2fe20>]"
            ]
          },
          "metadata": {},
          "execution_count": 41
        },
        {
          "output_type": "display_data",
          "data": {
            "text/plain": [
              "<Figure size 432x288 with 1 Axes>"
            ],
            "image/png": "[encoded data removed]"
          },
          "metadata": {
            "needs_background": "light"
          }
        }
      ]
    },
    {
      "cell_type": "markdown",
      "source": [
        "# Resumo dos gráficos e análise"
      ],
      "metadata": {
        "id": "07HdG4wBpLoG"
      }
    },
    {
      "cell_type": "code",
      "source": [
        "fig, ax = plt.subplots(figsize=(10,5))\n",
        "ax.set_xlabel('size')\n",
        "ax.set_ylabel('tempo (seg)')\n",
        "ax.plot(lista_size, lista_temp, label='busca-local-1')\n",
        "plt.plot(lista_size, lista_temp_2, label='busca-local-2')\n",
        "ax.plot(lista_size, lista_temp_1Par, label='busca-local-1-par')\n",
        "plt.plot(lista_size, lista_temp_2Par, label='busca-local-2-par')\n",
        "plt.legend()\n",
        "plt.show()"
      ],
      "metadata": {
        "colab": {
          "base_uri": "https://localhost:8080/",
          "height": 334
        },
        "id": "Oa_OXLNUfwCX",
        "outputId": "b373620b-b0b3-4e50-98fc-ca47a33d534c"
      },
      "execution_count": null,
      "outputs": [
        {
          "output_type": "display_data",
          "data": {
            "text/plain": [
              "<Figure size 720x360 with 1 Axes>"
            ],
            "image/png": "[encoded data removed]"
          },
          "metadata": {
            "needs_background": "light"
          }
        }
      ]
    },
    {
      "cell_type": "code",
      "source": [
        "# Versao do prof\n",
        "\n",
        "tempos2 = [roda_com_entradaProf('./busca-local-1-par', arq)[1] for arq in arqs]\n",
        "tempos3 = [roda_com_entradaProf('./busca-local-2', arq)[1] for arq in arqs]\n",
        "tempos4 = [roda_com_entradaProf('./busca-local-2-par', arq)[1] for arq in arqs]"
      ],
      "metadata": {
        "id": "wiGF8reWiLyL"
      },
      "execution_count": null,
      "outputs": []
    },
    {
      "cell_type": "code",
      "source": [
        "# Versao do prof\n",
        "\n",
        "fig, ax = plt.subplots(figsize=(10,5))\n",
        "ax.set_xlabel('size')\n",
        "ax.set_ylabel('tempo (seg)')\n",
        "ax.plot(N, tempos, label='busca-local-1')\n",
        "plt.plot(N, tempos2, label='busca-local-1-par')\n",
        "ax.plot(N, tempos3, label='busca-local-2')\n",
        "plt.plot(N, tempos4, label='busca-local-2-par')\n",
        "plt.legend()\n",
        "plt.show()"
      ],
      "metadata": {
        "colab": {
          "base_uri": "https://localhost:8080/",
          "height": 334
        },
        "id": "aNJX_qWKgyyY",
        "outputId": "7702a393-0f21-4be6-bc4e-6f261bd7acb9"
      },
      "execution_count": null,
      "outputs": [
        {
          "output_type": "display_data",
          "data": {
            "text/plain": [
              "<Figure size 720x360 with 1 Axes>"
            ],
            "image/png": "[encoded data removed]"
          },
          "metadata": {
            "needs_background": "light"
          }
        }
      ]
    },
    {
      "cell_type": "markdown",
      "source": [
        "# Conclusão\n",
        "\n",
        "Ordem do melhor para pior dos buscas locais: 2Par > 2 > 1Par > 1\n",
        "\n",
        "- busca-local-1 (independente se usa paralelismo ou não): O(n³)\n",
        "- busca-local-2 (independente se usa paralelismo ou não): O(n²)"
      ],
      "metadata": {
        "id": "D16aoUTlTgOI"
      }
    },
    {
      "cell_type": "markdown",
      "source": [
        "## Explicação das complexidades\n",
        "Em notação assintótica, O(n²) representa a classe de funções em que o tempo de execução cresce no máximo proporcionalmente ao quadrado do tamanho da entrada (n), enquanto O(n³) representa a classe de funções em que o tempo de execução cresce no máximo proporcionalmente ao cubo do tamanho da entrada (n).\n",
        "\n",
        "Em outras palavras, se um algoritmo tem uma complexidade de tempo O(n²), então o tempo de execução do algoritmo aumenta quadraticamente em relação ao tamanho da entrada. Por exemplo, se o tamanho da entrada for duplicado, o tempo de execução aumentará quatro vezes. Já se um algoritmo tem complexidade de tempo O(n³), o tempo de execução aumenta cúbicamente em relação ao tamanho da entrada. Se o tamanho da entrada for duplicado, o tempo de execução aumentará oito vezes.\n",
        "\n",
        "Por exemplo, se considerarmos dois algoritmos de ordenação de listas, um com complexidade O(n²) e outro com complexidade O(n³), podemos dizer que o algoritmo com complexidade O(n³) será mais lento para listas maiores do que o algoritmo com complexidade O(n²).\n",
        "\n",
        "Portanto, a principal diferença entre O(n²) e O(n³) é que o tempo de execução do algoritmo com complexidade O(n³) cresce mais rapidamente em relação ao tamanho da entrada, o que significa que ele será mais lento para entradas maiores em comparação com o algoritmo com complexidade O(n²)."
      ],
      "metadata": {
        "id": "9D15dUC_jEgm"
      }
    }
  ]
}