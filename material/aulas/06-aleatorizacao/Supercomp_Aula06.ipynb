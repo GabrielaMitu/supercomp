{
  "nbformat": 4,
  "nbformat_minor": 0,
  "metadata": {
    "colab": {
      "provenance": []
    },
    "kernelspec": {
      "name": "python3",
      "display_name": "Python 3"
    },
    "language_info": {
      "name": "python"
    }
  },
  "cells": [
    {
      "cell_type": "markdown",
      "source": [
        "A biblioteca padrão de C++ disponibiliza diversas funções para utilização de *RNG*s (cabeçalho <random> - documentação neste link). Se você quisesse sortear números aleatórios inteiros entre -2 e 5 quais funções usaria?"
      ],
      "metadata": {
        "id": "UfjMylHnRSDk"
      }
    },
    {
      "cell_type": "code",
      "execution_count": null,
      "metadata": {
        "colab": {
          "base_uri": "https://localhost:8080/"
        },
        "id": "d7zXfOUdN_Op",
        "outputId": "e3f4154d-59f8-4967-f6da-68f2c8127c9d"
      },
      "outputs": [
        {
          "output_type": "stream",
          "name": "stdout",
          "text": [
            "Overwriting programa.cpp\n"
          ]
        }
      ],
      "source": [
        "%%writefile programa.cpp \n",
        "#include <iostream>\n",
        "#include <random>\n",
        "#include <chrono>\n",
        "using namespace std;\n",
        "\n",
        "int main() {\n",
        "  unsigned seed = chrono::system_clock::now().time_since_epoch().count();\n",
        "  default_random_engine generator(seed);\n",
        "  uniform_int_distribution<int> distribution(-2,5);\n",
        "  cout << distribution(generator); // gera número\n",
        "}"
      ]
    },
    {
      "cell_type": "code",
      "source": [
        "!g++ -o programa programa.cpp"
      ],
      "metadata": {
        "id": "BHuDcjDxOn9v"
      },
      "execution_count": null,
      "outputs": []
    },
    {
      "cell_type": "code",
      "source": [
        "!./programa"
      ],
      "metadata": {
        "colab": {
          "base_uri": "https://localhost:8080/"
        },
        "id": "Ap87rKBlOxVE",
        "outputId": "a939a8e1-5ff8-4211-d3b6-86d533f84432"
      },
      "execution_count": null,
      "outputs": [
        {
          "output_type": "stream",
          "name": "stdout",
          "text": [
            "3"
          ]
        }
      ]
    },
    {
      "cell_type": "markdown",
      "source": [
        " E se você quisesse sortear um número real entre 0 e 1?"
      ],
      "metadata": {
        "id": "Z7TvHNm5RXqX"
      }
    },
    {
      "cell_type": "code",
      "source": [
        "%%writefile programa.cpp \n",
        "#include <iostream>\n",
        "#include <random>\n",
        "#include <chrono>\n",
        "using namespace std;\n",
        "\n",
        "int main() {\n",
        "  unsigned seed = chrono::system_clock::now().time_since_epoch().count();\n",
        "  default_random_engine generator(seed);\n",
        "  uniform_real_distribution<double> distribution(0.0, 1.0);\n",
        "  cout << distribution(generator); // gera número\n",
        "}"
      ],
      "metadata": {
        "colab": {
          "base_uri": "https://localhost:8080/"
        },
        "id": "d38W_FCqRYoF",
        "outputId": "207a1fd3-b58b-4d85-8d96-b1b01f95eca2"
      },
      "execution_count": null,
      "outputs": [
        {
          "output_type": "stream",
          "name": "stdout",
          "text": [
            "Overwriting programa.cpp\n"
          ]
        }
      ]
    },
    {
      "cell_type": "code",
      "source": [
        "!g++ -o programa programa.cpp"
      ],
      "metadata": {
        "id": "UsTSju1_Rrc3"
      },
      "execution_count": null,
      "outputs": []
    },
    {
      "cell_type": "code",
      "source": [
        "!./programa"
      ],
      "metadata": {
        "colab": {
          "base_uri": "https://localhost:8080/"
        },
        "id": "mQ649sd5RsvY",
        "outputId": "df43f731-5b7d-4273-ed9e-ef0de18642a2"
      },
      "execution_count": null,
      "outputs": [
        {
          "output_type": "stream",
          "name": "stdout",
          "text": [
            "0.392501"
          ]
        }
      ]
    },
    {
      "cell_type": "markdown",
      "source": [
        "Agora que você já consegue gerar números aleatórios, vamos implementar nossa primeira versão de uma heurística aleatorizada."
      ],
      "metadata": {
        "id": "it7y8wc4Tttw"
      }
    },
    {
      "cell_type": "markdown",
      "source": [
        "Mochila mais leve:"
      ],
      "metadata": {
        "id": "d7XoeydPEinp"
      }
    },
    {
      "cell_type": "code",
      "source": [
        "%%writefile programa.cpp \n",
        "\n",
        "#include<iostream>\n",
        "#include<vector>\n",
        "#include<algorithm>\n",
        "using namespace std;\n",
        "\n",
        "struct item {\n",
        "    int id;\n",
        "    double peso;\n",
        "    double valor;\n",
        "};\n",
        "\n",
        "bool my_compare(item a, item b){\n",
        "    return a.peso < b.peso; // ordenando pelo mais leve\n",
        "}\n",
        "\n",
        "int main() {\n",
        "    int n = 0;\n",
        "    int W = 0;\n",
        "    vector<item> mochila;\n",
        "    vector<item> items;\n",
        "    cin >> n >> W;\n",
        "    items.reserve(n);\n",
        "    double peso, valor;\n",
        "    for(int i = 0; i < n; i++){\n",
        "        cin >> peso;\n",
        "        cin >> valor;\n",
        "        items.push_back({i, peso, valor});\n",
        "    }\n",
        "    //ordenar\n",
        "    sort(items.begin(), items.end(), my_compare);\n",
        "    peso = 0;\n",
        "    valor = 0;\n",
        "    for(auto& el : items){\n",
        "        if(el.peso + peso <= W){\n",
        "            mochila.push_back(el);\n",
        "            peso += el.peso;\n",
        "            valor += el.valor;\n",
        "        }\n",
        "    }\n",
        "    //ordenando para imprimir\n",
        "    sort(mochila.begin(), mochila.end(), [](auto& i, auto&j){return i.id < j.id;});\n",
        "    cout << peso << \" \" << valor << \" 0\" << endl;\n",
        "    for(auto& el: mochila){\n",
        "        cout << el.id << \" \";\n",
        "    }\n",
        "\n",
        "    return 0;\n",
        "}"
      ],
      "metadata": {
        "colab": {
          "base_uri": "https://localhost:8080/"
        },
        "id": "KS2OudSvHCt1",
        "outputId": "9cf747ba-3aa6-4330-dbdd-279899fc8783"
      },
      "execution_count": null,
      "outputs": [
        {
          "output_type": "stream",
          "name": "stdout",
          "text": [
            "Overwriting programa.cpp\n"
          ]
        }
      ]
    },
    {
      "cell_type": "code",
      "source": [
        "!g++ -o programa programa.cpp"
      ],
      "metadata": {
        "id": "0_uKNc4THGtc"
      },
      "execution_count": null,
      "outputs": []
    },
    {
      "cell_type": "code",
      "source": [
        "!./programa < \"in1.txt\" > \"out1.txt\""
      ],
      "metadata": {
        "id": "weNGz4OWHIp_"
      },
      "execution_count": null,
      "outputs": []
    },
    {
      "cell_type": "markdown",
      "source": [
        "Adicionaremos a seguinte variação na nossa heurística: a cada passo de seleção temos 25% de chance de selecionar um objeto aleatório que ainda não foi utilizado. Ou seja, cada passo do algoritmo segue a seguinte regra\n",
        "\n",
        "Faça um sorteio aleatório\n",
        "Com probabilidade 75% pegue o próximo objeto não selecionado de acordo com a heurística (mais leve ou mais caro)\n",
        "Com probabilidade 25% selecione um objeto qualquer dos que não foram analisados ainda.\n",
        "Note que não mudamos o próximo elemento ao fazer a seleção aleatória. Adote seed=10 nesta tarefa.\n",
        "\n",
        "Dica: agora é possível que eu olhe um produto mais de uma vez. Você precisará checar isso no seu programa!"
      ],
      "metadata": {
        "id": "0oK9bQlbVHMm"
      }
    },
    {
      "cell_type": "code",
      "source": [
        "%%writefile programa.cpp \n",
        "\n",
        "#include <iostream>\n",
        "#include <vector>\n",
        "#include <cmath>\n",
        "#include<fstream>\n",
        "#include <bits/stdc++.h>\n",
        "\n",
        "using namespace std;\n",
        "\n",
        "\n",
        "struct item{\n",
        "    int id;\n",
        "    double peso;\n",
        "    double valor;\n",
        "};\n",
        "bool my_compare(item a, item b); //assinatura\n",
        "\n",
        "int main() {\n",
        "    default_random_engine generator;\n",
        "    generator.seed(10);\n",
        "\n",
        "    int n = 0;\n",
        "    int w =0;\n",
        "    uniform_real_distribution<double> distribution(0.0,1.0);\n",
        "    vector<item> mochila;\n",
        "    vector<item> items;\n",
        "\n",
        "    cin >> n >> w; \n",
        "    items.reserve(n);\n",
        "\n",
        "    \n",
        "    items.reserve(n);\n",
        "    double peso, valor;\n",
        "\n",
        "    \n",
        "    for(int i = 0 ; i<n; i++){\n",
        "        cin >> peso;\n",
        "        cin >> valor;\n",
        "        items.push_back({i,peso,valor});\n",
        "     }\n",
        "     \n",
        "     //sinvariante - elementos ordenado pelo peso (eh um ponto de certeza)\n",
        "     sort(items.begin(),items.end(), [](auto& i, auto& j){return i.valor > j.valor;}); \n",
        "     \n",
        "     peso = 0;\n",
        "     valor = 0;\n",
        "     int i = 1;\n",
        "     for(auto& el: items){\n",
        "         \n",
        "            if(el.peso + peso <= w){\n",
        "                mochila.push_back(el);\n",
        "                peso += el.peso;\n",
        "                valor +=el.valor;\n",
        "            \n",
        "            }\n",
        "            if (distribution(generator) > 0.75 && i<n){\n",
        "                uniform_int_distribution<int> distribution(i,n-1);\n",
        "                int p = distribution(generator);\n",
        "                if (items[p].peso + peso <= w){\n",
        "                    mochila.push_back(items[p]);\n",
        "                    peso = peso + items[p].peso;\n",
        "                    valor = valor + items[p].valor;\n",
        "\n",
        "                    items.erase(items.begin()+p-1);\n",
        "                    n=n-1;\n",
        "\n",
        "                }\n",
        "            }\n",
        "            i=i+1;\n",
        "     }\n",
        "\n",
        "     //ordenando para imprimir\n",
        "     sort(mochila.begin(),mochila.end(),[](auto&i, auto&j){return i.id < j.id;});\n",
        "     cout << peso << \" \" << valor << \" 0\" << \"\\n\";\n",
        "\n",
        "     for (auto& el : mochila){\n",
        "         cout << el.id << \" \";\n",
        "     }\n",
        "\n",
        "     cout << peso << \" \" << valor << \" 0\" << endl;\n",
        "     for(auto& el: mochila){\n",
        "         cout << el.id << \" \";\n",
        "     }\n",
        "    \n",
        "    \n",
        "    return 0;\n",
        "}\n",
        "bool my_compare(item a,item b){\n",
        "    return a.peso < b.peso; //ordem crescente se fosse crescente seria a < b \n",
        "}"
      ],
      "metadata": {
        "colab": {
          "base_uri": "https://localhost:8080/"
        },
        "id": "ubtgsLJJVFrp",
        "outputId": "ac02ea82-666c-490d-c3aa-652fc42da635"
      },
      "execution_count": null,
      "outputs": [
        {
          "output_type": "stream",
          "name": "stdout",
          "text": [
            "Overwriting programa.cpp\n"
          ]
        }
      ]
    },
    {
      "cell_type": "code",
      "source": [
        "!g++ -o programa programa.cpp"
      ],
      "metadata": {
        "id": "iNtj09SCVzgI"
      },
      "execution_count": null,
      "outputs": []
    },
    {
      "cell_type": "code",
      "source": [
        "!./programa < \"in1.txt\""
      ],
      "metadata": {
        "colab": {
          "base_uri": "https://localhost:8080/"
        },
        "id": "Lnz4MIrSV185",
        "outputId": "615e8d1e-854c-4692-ce58-64fa1e46ece2"
      },
      "execution_count": null,
      "outputs": [
        {
          "output_type": "stream",
          "name": "stdout",
          "text": [
            "8 241 0\n",
            "1 5 7 8 241 0\n",
            "1 5 7 "
          ]
        }
      ]
    }
  ]
}